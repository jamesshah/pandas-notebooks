{
 "cells": [
  {
   "cell_type": "code",
   "execution_count": 1,
   "metadata": {},
   "outputs": [],
   "source": [
    "#hide\n",
    "import pandas as pd\n",
    "import numpy as np"
   ]
  },
  {
   "cell_type": "markdown",
   "metadata": {},
   "source": [
    "# Learning Data Analysis with Python - Pandas DataFrame and Basic Operations\n",
    "\n",
    "> ⚠️ **Note** - _This post is a part of Learning data analysis with python series. If you haven't read the first post, some of the content won't make sense. Check it out [here](https://bytetales.co/learning-data-analysis-with-python-introduction-to-pandas)._\n",
    "\n",
    "In the previous article, we talked about Pandas Series, working with real world data and handling missing values in data. Although series are very useful but most real world datasets contain multiple rows and columns and that's why Dataframes are used much more than series. In this post, we'll talk about dataframe and some operations that we can do on dataframe objects.\n",
    "\n",
    "## What is a DataFrame?\n",
    "\n",
    "As we looked in the previous post, A Series is a container of scalars,A DataFrame is a container for Series. It's a dictionary like data structure for Series. A DataFrame is similar to a two-dimensional hetrogeneous tabular data(SQL table). A DataFrame is created using many different types of data such as dictionary of Series, dictionary of ndarrays/lists, a list of dictionary, etc. We'll look at some of these methods to create a DataFrame object and then we'll see some operations that we can apply on a DataFrame object to manipulate the data.\n",
    "\n",
    "## DataFrame using dictionary of Series"
   ]
  },
  {
   "cell_type": "code",
   "execution_count": 2,
   "metadata": {},
   "outputs": [],
   "source": [
    "d = {\n",
    "    'col1' : pd.Series([1,2,3], index = [\"row1\", \"row2\", \"row3\"]),\n",
    "    'col2' : pd.Series([4,5,6], index = [\"row1\", \"row2\", \"row3\"])\n",
    "}\n",
    "\n",
    "df = pd.DataFrame(d)"
   ]
  },
  {
   "cell_type": "code",
   "execution_count": 3,
   "metadata": {},
   "outputs": [
    {
     "data": {
      "text/html": [
       "<div>\n",
       "<style scoped>\n",
       "    .dataframe tbody tr th:only-of-type {\n",
       "        vertical-align: middle;\n",
       "    }\n",
       "\n",
       "    .dataframe tbody tr th {\n",
       "        vertical-align: top;\n",
       "    }\n",
       "\n",
       "    .dataframe thead th {\n",
       "        text-align: right;\n",
       "    }\n",
       "</style>\n",
       "<table border=\"1\" class=\"dataframe\">\n",
       "  <thead>\n",
       "    <tr style=\"text-align: right;\">\n",
       "      <th></th>\n",
       "      <th>col1</th>\n",
       "      <th>col2</th>\n",
       "    </tr>\n",
       "  </thead>\n",
       "  <tbody>\n",
       "    <tr>\n",
       "      <th>row1</th>\n",
       "      <td>1</td>\n",
       "      <td>4</td>\n",
       "    </tr>\n",
       "    <tr>\n",
       "      <th>row2</th>\n",
       "      <td>2</td>\n",
       "      <td>5</td>\n",
       "    </tr>\n",
       "    <tr>\n",
       "      <th>row3</th>\n",
       "      <td>3</td>\n",
       "      <td>6</td>\n",
       "    </tr>\n",
       "  </tbody>\n",
       "</table>\n",
       "</div>"
      ],
      "text/plain": [
       "      col1  col2\n",
       "row1     1     4\n",
       "row2     2     5\n",
       "row3     3     6"
      ]
     },
     "execution_count": 3,
     "metadata": {},
     "output_type": "execute_result"
    }
   ],
   "source": [
    "df"
   ]
  },
  {
   "cell_type": "markdown",
   "metadata": {},
   "source": [
    "As shown in above code, the keys of dict of Series becomes column names of the DataFrame and the index of the Series becomes the row name and all the data gets mapped by the row name i.e.,order of the index in the Series doesn't matter.\n",
    "\n",
    "## DataFrame using ndarrays/lists"
   ]
  },
  {
   "cell_type": "code",
   "execution_count": 4,
   "metadata": {},
   "outputs": [
    {
     "data": {
      "text/html": [
       "<div>\n",
       "<style scoped>\n",
       "    .dataframe tbody tr th:only-of-type {\n",
       "        vertical-align: middle;\n",
       "    }\n",
       "\n",
       "    .dataframe tbody tr th {\n",
       "        vertical-align: top;\n",
       "    }\n",
       "\n",
       "    .dataframe thead th {\n",
       "        text-align: right;\n",
       "    }\n",
       "</style>\n",
       "<table border=\"1\" class=\"dataframe\">\n",
       "  <thead>\n",
       "    <tr style=\"text-align: right;\">\n",
       "      <th></th>\n",
       "      <th>one</th>\n",
       "      <th>two</th>\n",
       "    </tr>\n",
       "  </thead>\n",
       "  <tbody>\n",
       "    <tr>\n",
       "      <th>0</th>\n",
       "      <td>1.0</td>\n",
       "      <td>4.0</td>\n",
       "    </tr>\n",
       "    <tr>\n",
       "      <th>1</th>\n",
       "      <td>2.0</td>\n",
       "      <td>5.0</td>\n",
       "    </tr>\n",
       "    <tr>\n",
       "      <th>2</th>\n",
       "      <td>3.0</td>\n",
       "      <td>6.0</td>\n",
       "    </tr>\n",
       "  </tbody>\n",
       "</table>\n",
       "</div>"
      ],
      "text/plain": [
       "   one  two\n",
       "0  1.0  4.0\n",
       "1  2.0  5.0\n",
       "2  3.0  6.0"
      ]
     },
     "execution_count": 4,
     "metadata": {},
     "output_type": "execute_result"
    }
   ],
   "source": [
    "d = {\n",
    "    'one' : [1.,2.,3.],\n",
    "    'two' : [4.,5.,6.]\n",
    "}\n",
    "\n",
    "df = pd.DataFrame(d)\n",
    "df"
   ]
  },
  {
   "cell_type": "markdown",
   "metadata": {},
   "source": [
    "As shown in the above code, when we use ndarrays/lists, if we don't pass the index then the `range(n)` becomes the index of the DataFrame.And while using the ndarray to create a DataFrame, the length of these arrays must be same and if we pass an explicit index then the length of this index must also be of same length as the length of the arrays.\n",
    "\n",
    "## DataFrame using list of dictionaries"
   ]
  },
  {
   "cell_type": "code",
   "execution_count": 5,
   "metadata": {},
   "outputs": [
    {
     "data": {
      "text/html": [
       "<div>\n",
       "<style scoped>\n",
       "    .dataframe tbody tr th:only-of-type {\n",
       "        vertical-align: middle;\n",
       "    }\n",
       "\n",
       "    .dataframe tbody tr th {\n",
       "        vertical-align: top;\n",
       "    }\n",
       "\n",
       "    .dataframe thead th {\n",
       "        text-align: right;\n",
       "    }\n",
       "</style>\n",
       "<table border=\"1\" class=\"dataframe\">\n",
       "  <thead>\n",
       "    <tr style=\"text-align: right;\">\n",
       "      <th></th>\n",
       "      <th>one</th>\n",
       "      <th>two</th>\n",
       "      <th>three</th>\n",
       "      <th>four</th>\n",
       "    </tr>\n",
       "  </thead>\n",
       "  <tbody>\n",
       "    <tr>\n",
       "      <th>0</th>\n",
       "      <td>1</td>\n",
       "      <td>2</td>\n",
       "      <td>3</td>\n",
       "      <td>NaN</td>\n",
       "    </tr>\n",
       "    <tr>\n",
       "      <th>1</th>\n",
       "      <td>10</td>\n",
       "      <td>20</td>\n",
       "      <td>30</td>\n",
       "      <td>40.0</td>\n",
       "    </tr>\n",
       "  </tbody>\n",
       "</table>\n",
       "</div>"
      ],
      "text/plain": [
       "   one  two  three  four\n",
       "0    1    2      3   NaN\n",
       "1   10   20     30  40.0"
      ]
     },
     "execution_count": 5,
     "metadata": {},
     "output_type": "execute_result"
    }
   ],
   "source": [
    "d = [\n",
    "    {'one': 1, 'two' : 2, 'three': 3},\n",
    "    {'one': 10, 'two': 20, 'three': 30, 'four': 40}\n",
    "]\n",
    "\n",
    "df = pd.DataFrame(d)\n",
    "df"
   ]
  },
  {
   "cell_type": "markdown",
   "metadata": {},
   "source": [
    "We can also provide an explicit index in this method,too."
   ]
  },
  {
   "cell_type": "code",
   "execution_count": 6,
   "metadata": {},
   "outputs": [
    {
     "data": {
      "text/html": [
       "<div>\n",
       "<style scoped>\n",
       "    .dataframe tbody tr th:only-of-type {\n",
       "        vertical-align: middle;\n",
       "    }\n",
       "\n",
       "    .dataframe tbody tr th {\n",
       "        vertical-align: top;\n",
       "    }\n",
       "\n",
       "    .dataframe thead th {\n",
       "        text-align: right;\n",
       "    }\n",
       "</style>\n",
       "<table border=\"1\" class=\"dataframe\">\n",
       "  <thead>\n",
       "    <tr style=\"text-align: right;\">\n",
       "      <th></th>\n",
       "      <th>one</th>\n",
       "      <th>two</th>\n",
       "      <th>three</th>\n",
       "      <th>four</th>\n",
       "    </tr>\n",
       "  </thead>\n",
       "  <tbody>\n",
       "    <tr>\n",
       "      <th>first</th>\n",
       "      <td>1</td>\n",
       "      <td>2</td>\n",
       "      <td>3</td>\n",
       "      <td>NaN</td>\n",
       "    </tr>\n",
       "    <tr>\n",
       "      <th>second</th>\n",
       "      <td>10</td>\n",
       "      <td>20</td>\n",
       "      <td>30</td>\n",
       "      <td>40.0</td>\n",
       "    </tr>\n",
       "  </tbody>\n",
       "</table>\n",
       "</div>"
      ],
      "text/plain": [
       "        one  two  three  four\n",
       "first     1    2      3   NaN\n",
       "second   10   20     30  40.0"
      ]
     },
     "execution_count": 6,
     "metadata": {},
     "output_type": "execute_result"
    }
   ],
   "source": [
    "df = pd.DataFrame(d, index=[\"first\", \"second\"])\n",
    "df"
   ]
  },
  {
   "cell_type": "markdown",
   "metadata": {},
   "source": [
    "Although learning to create a DataFrame object using these methods is necessary but in real world, we won't be using these methods to create a DataFrame but we'll be using external data files to load data and manipulate that data. So, let's take a look how to load a csv file and create a DataFrame.In the previous post, we worked with the Nifty50 data to demonstrate how Series works and similarly in this post, we'll load Nifty50 2018 data, but in addition to just Close values of each date, in this dataset we have Open, High and Low value of Nifty50. First let's see what this dataset looks like and then we'll load it into a DataFrame.\n",
    "\n",
    "![Nifty50 Data](https://res-console.cloudinary.com/bytetales/thumbnails/transform/v1/image/upload//v1599051299/bmlmdHlfNTA=/drilldown)"
   ]
  },
  {
   "cell_type": "code",
   "execution_count": 7,
   "metadata": {},
   "outputs": [
    {
     "data": {
      "text/html": [
       "<div>\n",
       "<style scoped>\n",
       "    .dataframe tbody tr th:only-of-type {\n",
       "        vertical-align: middle;\n",
       "    }\n",
       "\n",
       "    .dataframe tbody tr th {\n",
       "        vertical-align: top;\n",
       "    }\n",
       "\n",
       "    .dataframe thead th {\n",
       "        text-align: right;\n",
       "    }\n",
       "</style>\n",
       "<table border=\"1\" class=\"dataframe\">\n",
       "  <thead>\n",
       "    <tr style=\"text-align: right;\">\n",
       "      <th></th>\n",
       "      <th>Date</th>\n",
       "      <th>Open</th>\n",
       "      <th>High</th>\n",
       "      <th>Low</th>\n",
       "      <th>Close</th>\n",
       "    </tr>\n",
       "  </thead>\n",
       "  <tbody>\n",
       "    <tr>\n",
       "      <th>0</th>\n",
       "      <td>31 Dec 2018</td>\n",
       "      <td>10913.20</td>\n",
       "      <td>10923.55</td>\n",
       "      <td>10853.20</td>\n",
       "      <td>10862.55</td>\n",
       "    </tr>\n",
       "    <tr>\n",
       "      <th>1</th>\n",
       "      <td>28 Dec 2018</td>\n",
       "      <td>10820.95</td>\n",
       "      <td>10893.60</td>\n",
       "      <td>10817.15</td>\n",
       "      <td>10859.90</td>\n",
       "    </tr>\n",
       "    <tr>\n",
       "      <th>2</th>\n",
       "      <td>27 Dec 2018</td>\n",
       "      <td>10817.90</td>\n",
       "      <td>10834.20</td>\n",
       "      <td>10764.45</td>\n",
       "      <td>10779.80</td>\n",
       "    </tr>\n",
       "    <tr>\n",
       "      <th>3</th>\n",
       "      <td>26 Dec 2018</td>\n",
       "      <td>10635.45</td>\n",
       "      <td>10747.50</td>\n",
       "      <td>10534.55</td>\n",
       "      <td>10729.85</td>\n",
       "    </tr>\n",
       "    <tr>\n",
       "      <th>4</th>\n",
       "      <td>24 Dec 2018</td>\n",
       "      <td>10780.90</td>\n",
       "      <td>10782.30</td>\n",
       "      <td>10649.25</td>\n",
       "      <td>10663.50</td>\n",
       "    </tr>\n",
       "    <tr>\n",
       "      <th>...</th>\n",
       "      <td>...</td>\n",
       "      <td>...</td>\n",
       "      <td>...</td>\n",
       "      <td>...</td>\n",
       "      <td>...</td>\n",
       "    </tr>\n",
       "    <tr>\n",
       "      <th>241</th>\n",
       "      <td>05 Jan 2018</td>\n",
       "      <td>10534.25</td>\n",
       "      <td>10566.10</td>\n",
       "      <td>10520.10</td>\n",
       "      <td>10558.85</td>\n",
       "    </tr>\n",
       "    <tr>\n",
       "      <th>242</th>\n",
       "      <td>04 Jan 2018</td>\n",
       "      <td>10469.40</td>\n",
       "      <td>10513.00</td>\n",
       "      <td>10441.45</td>\n",
       "      <td>10504.80</td>\n",
       "    </tr>\n",
       "    <tr>\n",
       "      <th>243</th>\n",
       "      <td>03 Jan 2018</td>\n",
       "      <td>10482.65</td>\n",
       "      <td>10503.60</td>\n",
       "      <td>10429.55</td>\n",
       "      <td>10443.20</td>\n",
       "    </tr>\n",
       "    <tr>\n",
       "      <th>244</th>\n",
       "      <td>02 Jan 2018</td>\n",
       "      <td>10477.55</td>\n",
       "      <td>10495.20</td>\n",
       "      <td>10404.65</td>\n",
       "      <td>10442.20</td>\n",
       "    </tr>\n",
       "    <tr>\n",
       "      <th>245</th>\n",
       "      <td>01 Jan 2018</td>\n",
       "      <td>10531.70</td>\n",
       "      <td>10537.85</td>\n",
       "      <td>10423.10</td>\n",
       "      <td>10435.55</td>\n",
       "    </tr>\n",
       "  </tbody>\n",
       "</table>\n",
       "<p>246 rows × 5 columns</p>\n",
       "</div>"
      ],
      "text/plain": [
       "            Date      Open      High       Low     Close\n",
       "0    31 Dec 2018  10913.20  10923.55  10853.20  10862.55\n",
       "1    28 Dec 2018  10820.95  10893.60  10817.15  10859.90\n",
       "2    27 Dec 2018  10817.90  10834.20  10764.45  10779.80\n",
       "3    26 Dec 2018  10635.45  10747.50  10534.55  10729.85\n",
       "4    24 Dec 2018  10780.90  10782.30  10649.25  10663.50\n",
       "..           ...       ...       ...       ...       ...\n",
       "241  05 Jan 2018  10534.25  10566.10  10520.10  10558.85\n",
       "242  04 Jan 2018  10469.40  10513.00  10441.45  10504.80\n",
       "243  03 Jan 2018  10482.65  10503.60  10429.55  10443.20\n",
       "244  02 Jan 2018  10477.55  10495.20  10404.65  10442.20\n",
       "245  01 Jan 2018  10531.70  10537.85  10423.10  10435.55\n",
       "\n",
       "[246 rows x 5 columns]"
      ]
     },
     "execution_count": 7,
     "metadata": {},
     "output_type": "execute_result"
    }
   ],
   "source": [
    "df = pd.read_csv('NIFTY50_2018.csv')\n",
    "df"
   ]
  },
  {
   "cell_type": "markdown",
   "metadata": {},
   "source": [
    "We have loaded the data and created a dataframe from it, but we may want to take the `Date` column as the index and as always, Pandas provide a simple way to do this and many more things that you may want to do with the data. we can make any column as the index column by providing the `index_col` parameter in the `read_csv` method. Let's see what our dataframe looks like after that."
   ]
  },
  {
   "cell_type": "code",
   "execution_count": 8,
   "metadata": {},
   "outputs": [
    {
     "data": {
      "text/html": [
       "<div>\n",
       "<style scoped>\n",
       "    .dataframe tbody tr th:only-of-type {\n",
       "        vertical-align: middle;\n",
       "    }\n",
       "\n",
       "    .dataframe tbody tr th {\n",
       "        vertical-align: top;\n",
       "    }\n",
       "\n",
       "    .dataframe thead th {\n",
       "        text-align: right;\n",
       "    }\n",
       "</style>\n",
       "<table border=\"1\" class=\"dataframe\">\n",
       "  <thead>\n",
       "    <tr style=\"text-align: right;\">\n",
       "      <th></th>\n",
       "      <th>Open</th>\n",
       "      <th>High</th>\n",
       "      <th>Low</th>\n",
       "      <th>Close</th>\n",
       "    </tr>\n",
       "    <tr>\n",
       "      <th>Date</th>\n",
       "      <th></th>\n",
       "      <th></th>\n",
       "      <th></th>\n",
       "      <th></th>\n",
       "    </tr>\n",
       "  </thead>\n",
       "  <tbody>\n",
       "    <tr>\n",
       "      <th>31 Dec 2018</th>\n",
       "      <td>10913.20</td>\n",
       "      <td>10923.55</td>\n",
       "      <td>10853.20</td>\n",
       "      <td>10862.55</td>\n",
       "    </tr>\n",
       "    <tr>\n",
       "      <th>28 Dec 2018</th>\n",
       "      <td>10820.95</td>\n",
       "      <td>10893.60</td>\n",
       "      <td>10817.15</td>\n",
       "      <td>10859.90</td>\n",
       "    </tr>\n",
       "    <tr>\n",
       "      <th>27 Dec 2018</th>\n",
       "      <td>10817.90</td>\n",
       "      <td>10834.20</td>\n",
       "      <td>10764.45</td>\n",
       "      <td>10779.80</td>\n",
       "    </tr>\n",
       "    <tr>\n",
       "      <th>26 Dec 2018</th>\n",
       "      <td>10635.45</td>\n",
       "      <td>10747.50</td>\n",
       "      <td>10534.55</td>\n",
       "      <td>10729.85</td>\n",
       "    </tr>\n",
       "    <tr>\n",
       "      <th>24 Dec 2018</th>\n",
       "      <td>10780.90</td>\n",
       "      <td>10782.30</td>\n",
       "      <td>10649.25</td>\n",
       "      <td>10663.50</td>\n",
       "    </tr>\n",
       "    <tr>\n",
       "      <th>...</th>\n",
       "      <td>...</td>\n",
       "      <td>...</td>\n",
       "      <td>...</td>\n",
       "      <td>...</td>\n",
       "    </tr>\n",
       "    <tr>\n",
       "      <th>05 Jan 2018</th>\n",
       "      <td>10534.25</td>\n",
       "      <td>10566.10</td>\n",
       "      <td>10520.10</td>\n",
       "      <td>10558.85</td>\n",
       "    </tr>\n",
       "    <tr>\n",
       "      <th>04 Jan 2018</th>\n",
       "      <td>10469.40</td>\n",
       "      <td>10513.00</td>\n",
       "      <td>10441.45</td>\n",
       "      <td>10504.80</td>\n",
       "    </tr>\n",
       "    <tr>\n",
       "      <th>03 Jan 2018</th>\n",
       "      <td>10482.65</td>\n",
       "      <td>10503.60</td>\n",
       "      <td>10429.55</td>\n",
       "      <td>10443.20</td>\n",
       "    </tr>\n",
       "    <tr>\n",
       "      <th>02 Jan 2018</th>\n",
       "      <td>10477.55</td>\n",
       "      <td>10495.20</td>\n",
       "      <td>10404.65</td>\n",
       "      <td>10442.20</td>\n",
       "    </tr>\n",
       "    <tr>\n",
       "      <th>01 Jan 2018</th>\n",
       "      <td>10531.70</td>\n",
       "      <td>10537.85</td>\n",
       "      <td>10423.10</td>\n",
       "      <td>10435.55</td>\n",
       "    </tr>\n",
       "  </tbody>\n",
       "</table>\n",
       "<p>246 rows × 4 columns</p>\n",
       "</div>"
      ],
      "text/plain": [
       "                 Open      High       Low     Close\n",
       "Date                                               \n",
       "31 Dec 2018  10913.20  10923.55  10853.20  10862.55\n",
       "28 Dec 2018  10820.95  10893.60  10817.15  10859.90\n",
       "27 Dec 2018  10817.90  10834.20  10764.45  10779.80\n",
       "26 Dec 2018  10635.45  10747.50  10534.55  10729.85\n",
       "24 Dec 2018  10780.90  10782.30  10649.25  10663.50\n",
       "...               ...       ...       ...       ...\n",
       "05 Jan 2018  10534.25  10566.10  10520.10  10558.85\n",
       "04 Jan 2018  10469.40  10513.00  10441.45  10504.80\n",
       "03 Jan 2018  10482.65  10503.60  10429.55  10443.20\n",
       "02 Jan 2018  10477.55  10495.20  10404.65  10442.20\n",
       "01 Jan 2018  10531.70  10537.85  10423.10  10435.55\n",
       "\n",
       "[246 rows x 4 columns]"
      ]
     },
     "execution_count": 8,
     "metadata": {},
     "output_type": "execute_result"
    }
   ],
   "source": [
    "df = pd.read_csv('NIFTY50_2018.csv', index_col=0)\n",
    "df"
   ]
  },
  {
   "cell_type": "markdown",
   "metadata": {},
   "source": [
    "There are many more parameters available in the `read_csv` method such as `usecols` using which we can deliberately ask the pandas to only load provided columns, `na_values` to provide explicit values that pandas should identify as null values and so on and so forth. Read more about all the parameters in pandas [documentation](https://pandas.pydata.org/pandas-docs/stable/reference/api/pandas.read_csv.html).\n",
    "\n",
    "Now, let's look at some of the basic operations that we can perform on the dataframe object in order to learn more about our data."
   ]
  },
  {
   "cell_type": "code",
   "execution_count": 9,
   "metadata": {},
   "outputs": [
    {
     "data": {
      "text/plain": [
       "(246, 4)"
      ]
     },
     "execution_count": 9,
     "metadata": {},
     "output_type": "execute_result"
    }
   ],
   "source": [
    "# Shape (Number of rows and columns) of the DataFrame\n",
    "df.shape"
   ]
  },
  {
   "cell_type": "code",
   "execution_count": 10,
   "metadata": {},
   "outputs": [
    {
     "data": {
      "text/plain": [
       "Index(['31 Dec 2018', '28 Dec 2018', '27 Dec 2018', '26 Dec 2018',\n",
       "       '24 Dec 2018', '21 Dec 2018', '20 Dec 2018', '19 Dec 2018',\n",
       "       '18 Dec 2018', '17 Dec 2018',\n",
       "       ...\n",
       "       '12 Jan 2018', '11 Jan 2018', '10 Jan 2018', '09 Jan 2018',\n",
       "       '08 Jan 2018', '05 Jan 2018', '04 Jan 2018', '03 Jan 2018',\n",
       "       '02 Jan 2018', '01 Jan 2018'],\n",
       "      dtype='object', name='Date', length=246)"
      ]
     },
     "execution_count": 10,
     "metadata": {},
     "output_type": "execute_result"
    }
   ],
   "source": [
    "# List of index\n",
    "df.index"
   ]
  },
  {
   "cell_type": "code",
   "execution_count": 11,
   "metadata": {},
   "outputs": [
    {
     "data": {
      "text/plain": [
       "Index(['Open', 'High', 'Low', 'Close'], dtype='object')"
      ]
     },
     "execution_count": 11,
     "metadata": {},
     "output_type": "execute_result"
    }
   ],
   "source": [
    "# List of column names\n",
    "df.columns"
   ]
  },
  {
   "cell_type": "code",
   "execution_count": 12,
   "metadata": {},
   "outputs": [
    {
     "data": {
      "text/plain": [
       "False"
      ]
     },
     "execution_count": 12,
     "metadata": {},
     "output_type": "execute_result"
    }
   ],
   "source": [
    "# Check if a DataFrame is empty or not\n",
    "df.empty"
   ]
  },
  {
   "cell_type": "markdown",
   "metadata": {},
   "source": [
    "It's very crucial to know data types of all the columns because sometimes due to corrupt data or missing data, pandas may identify numeric data as 'object' data-type which isn't desired as numeric operations on the 'object' type of data is costlier in terms of time than on `float64` or `int64` i.e numeric datatypes."
   ]
  },
  {
   "cell_type": "code",
   "execution_count": 13,
   "metadata": {},
   "outputs": [
    {
     "data": {
      "text/plain": [
       "Open     float64\n",
       "High     float64\n",
       "Low      float64\n",
       "Close    float64\n",
       "dtype: object"
      ]
     },
     "execution_count": 13,
     "metadata": {},
     "output_type": "execute_result"
    }
   ],
   "source": [
    "# Datatypes of all the columns\n",
    "df.dtypes"
   ]
  },
  {
   "cell_type": "markdown",
   "metadata": {},
   "source": [
    "We can use iloc and loc to index and get the particular data from our dataframe."
   ]
  },
  {
   "cell_type": "code",
   "execution_count": 14,
   "metadata": {},
   "outputs": [
    {
     "data": {
      "text/plain": [
       "Open     10913.20\n",
       "High     10923.55\n",
       "Low      10853.20\n",
       "Close    10862.55\n",
       "Name: 31 Dec 2018, dtype: float64"
      ]
     },
     "execution_count": 14,
     "metadata": {},
     "output_type": "execute_result"
    }
   ],
   "source": [
    "# Indexing using implicit index\n",
    "df.iloc[0]"
   ]
  },
  {
   "cell_type": "code",
   "execution_count": 15,
   "metadata": {},
   "outputs": [
    {
     "data": {
      "text/plain": [
       "Open     10531.70\n",
       "High     10537.85\n",
       "Low      10423.10\n",
       "Close    10435.55\n",
       "Name: 01 Jan 2018, dtype: float64"
      ]
     },
     "execution_count": 15,
     "metadata": {},
     "output_type": "execute_result"
    }
   ],
   "source": [
    "# Indexing using explicit index\n",
    "df.loc[\"01 Jan 2018\"]"
   ]
  },
  {
   "cell_type": "markdown",
   "metadata": {},
   "source": [
    "We can also use both row and column to index and get specific cell from our dataframe."
   ]
  },
  {
   "cell_type": "code",
   "execution_count": 16,
   "metadata": {},
   "outputs": [
    {
     "data": {
      "text/plain": [
       "10537.85"
      ]
     },
     "execution_count": 16,
     "metadata": {},
     "output_type": "execute_result"
    }
   ],
   "source": [
    "# Indexing using both the axes(rows and columns)\n",
    "df.loc[\"01 Jan 2018\", \"High\"]"
   ]
  },
  {
   "cell_type": "markdown",
   "metadata": {},
   "source": [
    "We can also perform all the math operations on a dataframe object same as we did on series."
   ]
  },
  {
   "cell_type": "code",
   "execution_count": 17,
   "metadata": {},
   "outputs": [
    {
     "data": {
      "text/html": [
       "<div>\n",
       "<style scoped>\n",
       "    .dataframe tbody tr th:only-of-type {\n",
       "        vertical-align: middle;\n",
       "    }\n",
       "\n",
       "    .dataframe tbody tr th {\n",
       "        vertical-align: top;\n",
       "    }\n",
       "\n",
       "    .dataframe thead th {\n",
       "        text-align: right;\n",
       "    }\n",
       "</style>\n",
       "<table border=\"1\" class=\"dataframe\">\n",
       "  <thead>\n",
       "    <tr style=\"text-align: right;\">\n",
       "      <th></th>\n",
       "      <th>Open</th>\n",
       "      <th>High</th>\n",
       "      <th>Low</th>\n",
       "      <th>Close</th>\n",
       "    </tr>\n",
       "    <tr>\n",
       "      <th>Date</th>\n",
       "      <th></th>\n",
       "      <th></th>\n",
       "      <th></th>\n",
       "      <th></th>\n",
       "    </tr>\n",
       "  </thead>\n",
       "  <tbody>\n",
       "    <tr>\n",
       "      <th>31 Dec 2018</th>\n",
       "      <td>10923.20</td>\n",
       "      <td>10933.55</td>\n",
       "      <td>10863.20</td>\n",
       "      <td>10872.55</td>\n",
       "    </tr>\n",
       "    <tr>\n",
       "      <th>28 Dec 2018</th>\n",
       "      <td>10830.95</td>\n",
       "      <td>10903.60</td>\n",
       "      <td>10827.15</td>\n",
       "      <td>10869.90</td>\n",
       "    </tr>\n",
       "    <tr>\n",
       "      <th>27 Dec 2018</th>\n",
       "      <td>10827.90</td>\n",
       "      <td>10844.20</td>\n",
       "      <td>10774.45</td>\n",
       "      <td>10789.80</td>\n",
       "    </tr>\n",
       "    <tr>\n",
       "      <th>26 Dec 2018</th>\n",
       "      <td>10645.45</td>\n",
       "      <td>10757.50</td>\n",
       "      <td>10544.55</td>\n",
       "      <td>10739.85</td>\n",
       "    </tr>\n",
       "    <tr>\n",
       "      <th>24 Dec 2018</th>\n",
       "      <td>10790.90</td>\n",
       "      <td>10792.30</td>\n",
       "      <td>10659.25</td>\n",
       "      <td>10673.50</td>\n",
       "    </tr>\n",
       "    <tr>\n",
       "      <th>...</th>\n",
       "      <td>...</td>\n",
       "      <td>...</td>\n",
       "      <td>...</td>\n",
       "      <td>...</td>\n",
       "    </tr>\n",
       "    <tr>\n",
       "      <th>05 Jan 2018</th>\n",
       "      <td>10544.25</td>\n",
       "      <td>10576.10</td>\n",
       "      <td>10530.10</td>\n",
       "      <td>10568.85</td>\n",
       "    </tr>\n",
       "    <tr>\n",
       "      <th>04 Jan 2018</th>\n",
       "      <td>10479.40</td>\n",
       "      <td>10523.00</td>\n",
       "      <td>10451.45</td>\n",
       "      <td>10514.80</td>\n",
       "    </tr>\n",
       "    <tr>\n",
       "      <th>03 Jan 2018</th>\n",
       "      <td>10492.65</td>\n",
       "      <td>10513.60</td>\n",
       "      <td>10439.55</td>\n",
       "      <td>10453.20</td>\n",
       "    </tr>\n",
       "    <tr>\n",
       "      <th>02 Jan 2018</th>\n",
       "      <td>10487.55</td>\n",
       "      <td>10505.20</td>\n",
       "      <td>10414.65</td>\n",
       "      <td>10452.20</td>\n",
       "    </tr>\n",
       "    <tr>\n",
       "      <th>01 Jan 2018</th>\n",
       "      <td>10541.70</td>\n",
       "      <td>10547.85</td>\n",
       "      <td>10433.10</td>\n",
       "      <td>10445.55</td>\n",
       "    </tr>\n",
       "  </tbody>\n",
       "</table>\n",
       "<p>246 rows × 4 columns</p>\n",
       "</div>"
      ],
      "text/plain": [
       "                 Open      High       Low     Close\n",
       "Date                                               \n",
       "31 Dec 2018  10923.20  10933.55  10863.20  10872.55\n",
       "28 Dec 2018  10830.95  10903.60  10827.15  10869.90\n",
       "27 Dec 2018  10827.90  10844.20  10774.45  10789.80\n",
       "26 Dec 2018  10645.45  10757.50  10544.55  10739.85\n",
       "24 Dec 2018  10790.90  10792.30  10659.25  10673.50\n",
       "...               ...       ...       ...       ...\n",
       "05 Jan 2018  10544.25  10576.10  10530.10  10568.85\n",
       "04 Jan 2018  10479.40  10523.00  10451.45  10514.80\n",
       "03 Jan 2018  10492.65  10513.60  10439.55  10453.20\n",
       "02 Jan 2018  10487.55  10505.20  10414.65  10452.20\n",
       "01 Jan 2018  10541.70  10547.85  10433.10  10445.55\n",
       "\n",
       "[246 rows x 4 columns]"
      ]
     },
     "execution_count": 17,
     "metadata": {},
     "output_type": "execute_result"
    }
   ],
   "source": [
    "# Add 10 to all the values\n",
    "df.add(10)"
   ]
  },
  {
   "cell_type": "markdown",
   "metadata": {},
   "source": [
    "We can also aggregate the data using the `agg` method. For instance, we can get the maximum and minimum values from all the columns in our data using this method as show below."
   ]
  },
  {
   "cell_type": "code",
   "execution_count": 18,
   "metadata": {},
   "outputs": [
    {
     "data": {
      "text/html": [
       "<div>\n",
       "<style scoped>\n",
       "    .dataframe tbody tr th:only-of-type {\n",
       "        vertical-align: middle;\n",
       "    }\n",
       "\n",
       "    .dataframe tbody tr th {\n",
       "        vertical-align: top;\n",
       "    }\n",
       "\n",
       "    .dataframe thead th {\n",
       "        text-align: right;\n",
       "    }\n",
       "</style>\n",
       "<table border=\"1\" class=\"dataframe\">\n",
       "  <thead>\n",
       "    <tr style=\"text-align: right;\">\n",
       "      <th></th>\n",
       "      <th>Open</th>\n",
       "      <th>High</th>\n",
       "      <th>Low</th>\n",
       "      <th>Close</th>\n",
       "    </tr>\n",
       "  </thead>\n",
       "  <tbody>\n",
       "    <tr>\n",
       "      <th>max</th>\n",
       "      <td>11751.8</td>\n",
       "      <td>11760.2</td>\n",
       "      <td>11710.5</td>\n",
       "      <td>11738.50</td>\n",
       "    </tr>\n",
       "    <tr>\n",
       "      <th>min</th>\n",
       "      <td>9968.8</td>\n",
       "      <td>10027.7</td>\n",
       "      <td>9951.9</td>\n",
       "      <td>9998.05</td>\n",
       "    </tr>\n",
       "  </tbody>\n",
       "</table>\n",
       "</div>"
      ],
      "text/plain": [
       "        Open     High      Low     Close\n",
       "max  11751.8  11760.2  11710.5  11738.50\n",
       "min   9968.8  10027.7   9951.9   9998.05"
      ]
     },
     "execution_count": 18,
     "metadata": {},
     "output_type": "execute_result"
    }
   ],
   "source": [
    "df.agg([\"max\", \"min\"])"
   ]
  },
  {
   "cell_type": "markdown",
   "metadata": {},
   "source": [
    "However, pandas provide a more convenient method to get a lot more than just minimum and maximum values across all the columns in our data. And that method is `describe`. As the name suggests, it describes our dataframe by applying mathematical and statistical operations across all the columns."
   ]
  },
  {
   "cell_type": "code",
   "execution_count": 19,
   "metadata": {},
   "outputs": [
    {
     "data": {
      "text/html": [
       "<div>\n",
       "<style scoped>\n",
       "    .dataframe tbody tr th:only-of-type {\n",
       "        vertical-align: middle;\n",
       "    }\n",
       "\n",
       "    .dataframe tbody tr th {\n",
       "        vertical-align: top;\n",
       "    }\n",
       "\n",
       "    .dataframe thead th {\n",
       "        text-align: right;\n",
       "    }\n",
       "</style>\n",
       "<table border=\"1\" class=\"dataframe\">\n",
       "  <thead>\n",
       "    <tr style=\"text-align: right;\">\n",
       "      <th></th>\n",
       "      <th>Open</th>\n",
       "      <th>High</th>\n",
       "      <th>Low</th>\n",
       "      <th>Close</th>\n",
       "    </tr>\n",
       "  </thead>\n",
       "  <tbody>\n",
       "    <tr>\n",
       "      <th>count</th>\n",
       "      <td>246.000000</td>\n",
       "      <td>246.000000</td>\n",
       "      <td>246.000000</td>\n",
       "      <td>246.000000</td>\n",
       "    </tr>\n",
       "    <tr>\n",
       "      <th>mean</th>\n",
       "      <td>10758.260366</td>\n",
       "      <td>10801.753252</td>\n",
       "      <td>10695.351423</td>\n",
       "      <td>10749.392276</td>\n",
       "    </tr>\n",
       "    <tr>\n",
       "      <th>std</th>\n",
       "      <td>388.216617</td>\n",
       "      <td>379.159873</td>\n",
       "      <td>387.680138</td>\n",
       "      <td>382.632569</td>\n",
       "    </tr>\n",
       "    <tr>\n",
       "      <th>min</th>\n",
       "      <td>9968.800000</td>\n",
       "      <td>10027.700000</td>\n",
       "      <td>9951.900000</td>\n",
       "      <td>9998.050000</td>\n",
       "    </tr>\n",
       "    <tr>\n",
       "      <th>25%</th>\n",
       "      <td>10515.125000</td>\n",
       "      <td>10558.650000</td>\n",
       "      <td>10442.687500</td>\n",
       "      <td>10498.912500</td>\n",
       "    </tr>\n",
       "    <tr>\n",
       "      <th>50%</th>\n",
       "      <td>10704.100000</td>\n",
       "      <td>10749.850000</td>\n",
       "      <td>10638.100000</td>\n",
       "      <td>10693.000000</td>\n",
       "    </tr>\n",
       "    <tr>\n",
       "      <th>75%</th>\n",
       "      <td>10943.100000</td>\n",
       "      <td>10988.075000</td>\n",
       "      <td>10878.262500</td>\n",
       "      <td>10950.850000</td>\n",
       "    </tr>\n",
       "    <tr>\n",
       "      <th>max</th>\n",
       "      <td>11751.800000</td>\n",
       "      <td>11760.200000</td>\n",
       "      <td>11710.500000</td>\n",
       "      <td>11738.500000</td>\n",
       "    </tr>\n",
       "  </tbody>\n",
       "</table>\n",
       "</div>"
      ],
      "text/plain": [
       "               Open          High           Low         Close\n",
       "count    246.000000    246.000000    246.000000    246.000000\n",
       "mean   10758.260366  10801.753252  10695.351423  10749.392276\n",
       "std      388.216617    379.159873    387.680138    382.632569\n",
       "min     9968.800000  10027.700000   9951.900000   9998.050000\n",
       "25%    10515.125000  10558.650000  10442.687500  10498.912500\n",
       "50%    10704.100000  10749.850000  10638.100000  10693.000000\n",
       "75%    10943.100000  10988.075000  10878.262500  10950.850000\n",
       "max    11751.800000  11760.200000  11710.500000  11738.500000"
      ]
     },
     "execution_count": 19,
     "metadata": {},
     "output_type": "execute_result"
    }
   ],
   "source": [
    "df.describe()"
   ]
  },
  {
   "cell_type": "markdown",
   "metadata": {},
   "source": [
    "And to get the name, data types and number of non-null values in each columns, pandas provide `info` method."
   ]
  },
  {
   "cell_type": "code",
   "execution_count": 20,
   "metadata": {},
   "outputs": [
    {
     "name": "stdout",
     "output_type": "stream",
     "text": [
      "<class 'pandas.core.frame.DataFrame'>\n",
      "Index: 246 entries, 31 Dec 2018 to 01 Jan 2018\n",
      "Data columns (total 4 columns):\n",
      " #   Column  Non-Null Count  Dtype  \n",
      "---  ------  --------------  -----  \n",
      " 0   Open    246 non-null    float64\n",
      " 1   High    246 non-null    float64\n",
      " 2   Low     246 non-null    float64\n",
      " 3   Close   246 non-null    float64\n",
      "dtypes: float64(4)\n",
      "memory usage: 19.6+ KB\n"
     ]
    }
   ],
   "source": [
    "df.info()"
   ]
  },
  {
   "cell_type": "markdown",
   "metadata": {},
   "source": [
    "We are working with a small data with less than 300 rows and thus, we can work with all the rows but when we have tens or hundreds of thousand rows in our data, it's very difficult to work with such huge number of data. In statistics, 'sampling' is a technique that solves this problem. Sampling means to choose a small amount of data from the whole dataset such that the sampling dataset contains somewhat similar features in terms of diversity as that of the whole dataset. Now, it's almost impossible to manually select such peculiar rows but as always, pandas comes to our rescue with the `sample` method."
   ]
  },
  {
   "cell_type": "code",
   "execution_count": 21,
   "metadata": {},
   "outputs": [
    {
     "data": {
      "text/html": [
       "<div>\n",
       "<style scoped>\n",
       "    .dataframe tbody tr th:only-of-type {\n",
       "        vertical-align: middle;\n",
       "    }\n",
       "\n",
       "    .dataframe tbody tr th {\n",
       "        vertical-align: top;\n",
       "    }\n",
       "\n",
       "    .dataframe thead th {\n",
       "        text-align: right;\n",
       "    }\n",
       "</style>\n",
       "<table border=\"1\" class=\"dataframe\">\n",
       "  <thead>\n",
       "    <tr style=\"text-align: right;\">\n",
       "      <th></th>\n",
       "      <th>Open</th>\n",
       "      <th>High</th>\n",
       "      <th>Low</th>\n",
       "      <th>Close</th>\n",
       "    </tr>\n",
       "    <tr>\n",
       "      <th>Date</th>\n",
       "      <th></th>\n",
       "      <th></th>\n",
       "      <th></th>\n",
       "      <th></th>\n",
       "    </tr>\n",
       "  </thead>\n",
       "  <tbody>\n",
       "    <tr>\n",
       "      <th>18 Jul 2018</th>\n",
       "      <td>11060.20</td>\n",
       "      <td>11076.20</td>\n",
       "      <td>10956.30</td>\n",
       "      <td>10980.45</td>\n",
       "    </tr>\n",
       "    <tr>\n",
       "      <th>29 Aug 2018</th>\n",
       "      <td>11744.95</td>\n",
       "      <td>11753.20</td>\n",
       "      <td>11678.85</td>\n",
       "      <td>11691.90</td>\n",
       "    </tr>\n",
       "    <tr>\n",
       "      <th>25 Oct 2018</th>\n",
       "      <td>10135.05</td>\n",
       "      <td>10166.60</td>\n",
       "      <td>10079.30</td>\n",
       "      <td>10124.90</td>\n",
       "    </tr>\n",
       "    <tr>\n",
       "      <th>06 Aug 2018</th>\n",
       "      <td>11401.50</td>\n",
       "      <td>11427.65</td>\n",
       "      <td>11370.60</td>\n",
       "      <td>11387.10</td>\n",
       "    </tr>\n",
       "    <tr>\n",
       "      <th>14 Feb 2018</th>\n",
       "      <td>10585.75</td>\n",
       "      <td>10590.55</td>\n",
       "      <td>10456.65</td>\n",
       "      <td>10500.90</td>\n",
       "    </tr>\n",
       "  </tbody>\n",
       "</table>\n",
       "</div>"
      ],
      "text/plain": [
       "                 Open      High       Low     Close\n",
       "Date                                               \n",
       "18 Jul 2018  11060.20  11076.20  10956.30  10980.45\n",
       "29 Aug 2018  11744.95  11753.20  11678.85  11691.90\n",
       "25 Oct 2018  10135.05  10166.60  10079.30  10124.90\n",
       "06 Aug 2018  11401.50  11427.65  11370.60  11387.10\n",
       "14 Feb 2018  10585.75  10590.55  10456.65  10500.90"
      ]
     },
     "execution_count": 21,
     "metadata": {},
     "output_type": "execute_result"
    }
   ],
   "source": [
    "df.sample(5)"
   ]
  },
  {
   "cell_type": "markdown",
   "metadata": {},
   "source": [
    "But, executing this method produces different results everytime and that may be unacceptable in some cases. But that can be solved by providing `random_state` parameter in the `sample` method to reproduce same result everytime.\n",
    "\n",
    "As shown above, we can perform many operations on the DataFrame object to get information of the DataFrame and from the DataFrame. These are just basic operations that we can perform on the DataFrame object, there are many more interesting methods and operations that we can perform on the DataFrame object such as `pivot` , `merge` , `join` and many more. Also, in this given dataset, we have time as the index of our DataFrame i.e this is the TimeSeries dataset and pandas also provide many methods to manipulate the TimeSeries data such as `rolling_window`.\n",
    "\n",
    "That will be all for this post. In the next post we'll look at some of these methods and we'll perform 5 analysis tasks using these methods. Till then, you can take a look at the [pandas documentation](https://pandas.pydata.org/pandas-docs/stable/index.html) and find more information about DataFrame objects and the methods that can be applied on the DataFrame object.\n",
    "\n",
    "**Thank you for reading**"
   ]
  }
 ],
 "metadata": {
  "kernelspec": {
   "display_name": "Python 3",
   "language": "python",
   "name": "python3"
  },
  "language_info": {
   "codemirror_mode": {
    "name": "ipython",
    "version": 3
   },
   "file_extension": ".py",
   "mimetype": "text/x-python",
   "name": "python",
   "nbconvert_exporter": "python",
   "pygments_lexer": "ipython3",
   "version": "3.7.6"
  }
 },
 "nbformat": 4,
 "nbformat_minor": 4
}
