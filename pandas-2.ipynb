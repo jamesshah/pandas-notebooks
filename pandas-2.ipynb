{
 "cells": [
  {
   "cell_type": "code",
   "execution_count": 2,
   "metadata": {},
   "outputs": [],
   "source": [
    "import pandas as pd \n",
    "import numpy as np"
   ]
  },
  {
   "cell_type": "code",
   "execution_count": 3,
   "metadata": {},
   "outputs": [],
   "source": [
    "s = pd.Series([0.0, 1, 1, 2, 3, 5, 8], index=[1, 2, 3, 4, 5, 6, 7])"
   ]
  },
  {
   "cell_type": "code",
   "execution_count": 4,
   "metadata": {},
   "outputs": [
    {
     "output_type": "execute_result",
     "data": {
      "text/plain": "1    0.0\n2    1.0\n3    1.0\n4    2.0\n5    3.0\n6    5.0\n7    8.0\ndtype: float64"
     },
     "metadata": {},
     "execution_count": 4
    }
   ],
   "source": [
    "s"
   ]
  },
  {
   "cell_type": "code",
   "execution_count": 5,
   "metadata": {},
   "outputs": [
    {
     "output_type": "execute_result",
     "data": {
      "text/plain": "1.0"
     },
     "metadata": {},
     "execution_count": 5
    }
   ],
   "source": [
    "s.loc[3]"
   ]
  },
  {
   "cell_type": "code",
   "execution_count": 6,
   "metadata": {},
   "outputs": [
    {
     "output_type": "execute_result",
     "data": {
      "text/plain": "2.0"
     },
     "metadata": {},
     "execution_count": 6
    }
   ],
   "source": [
    "s.iloc[3]"
   ]
  },
  {
   "cell_type": "code",
   "execution_count": 7,
   "metadata": {},
   "outputs": [
    {
     "output_type": "execute_result",
     "data": {
      "text/plain": "   index    0\n0      1  0.0\n1      2  1.0\n2      3  1.0\n3      4  2.0\n4      5  3.0\n5      6  5.0\n6      7  8.0",
      "text/html": "<div>\n<style scoped>\n    .dataframe tbody tr th:only-of-type {\n        vertical-align: middle;\n    }\n\n    .dataframe tbody tr th {\n        vertical-align: top;\n    }\n\n    .dataframe thead th {\n        text-align: right;\n    }\n</style>\n<table border=\"1\" class=\"dataframe\">\n  <thead>\n    <tr style=\"text-align: right;\">\n      <th></th>\n      <th>index</th>\n      <th>0</th>\n    </tr>\n  </thead>\n  <tbody>\n    <tr>\n      <th>0</th>\n      <td>1</td>\n      <td>0.0</td>\n    </tr>\n    <tr>\n      <th>1</th>\n      <td>2</td>\n      <td>1.0</td>\n    </tr>\n    <tr>\n      <th>2</th>\n      <td>3</td>\n      <td>1.0</td>\n    </tr>\n    <tr>\n      <th>3</th>\n      <td>4</td>\n      <td>2.0</td>\n    </tr>\n    <tr>\n      <th>4</th>\n      <td>5</td>\n      <td>3.0</td>\n    </tr>\n    <tr>\n      <th>5</th>\n      <td>6</td>\n      <td>5.0</td>\n    </tr>\n    <tr>\n      <th>6</th>\n      <td>7</td>\n      <td>8.0</td>\n    </tr>\n  </tbody>\n</table>\n</div>"
     },
     "metadata": {},
     "execution_count": 7
    }
   ],
   "source": [
    "s.reset_index()"
   ]
  },
  {
   "cell_type": "code",
   "execution_count": 8,
   "metadata": {},
   "outputs": [],
   "source": [
    "mass = pd.Series(\n",
    "    [0.33, 4.87, 5.97, 0.642, 1898, 568, 86.8, 102, 0.0146], \n",
    "    index=['Mercury', 'Venus', 'Earth', 'Mars', 'Jupiter', 'Saturn', 'Uranus', 'Neptune', 'Pluto'])"
   ]
  },
  {
   "cell_type": "code",
   "execution_count": 9,
   "metadata": {},
   "outputs": [
    {
     "output_type": "execute_result",
     "data": {
      "text/plain": "Mercury       0.3300\nVenus         4.8700\nEarth         5.9700\nMars          0.6420\nJupiter    1898.0000\nSaturn      568.0000\nUranus       86.8000\nNeptune     102.0000\nPluto         0.0146\ndtype: float64"
     },
     "metadata": {},
     "execution_count": 9
    }
   ],
   "source": [
    "mass"
   ]
  },
  {
   "cell_type": "code",
   "execution_count": 10,
   "metadata": {},
   "outputs": [],
   "source": [
    "diameter = pd.Series(\n",
    "    [4879, 12104, 12756, 3475, 6792, 142984, 120536, 51118, 49528, 2370],\n",
    "    index=['Mercury', 'Venus', 'Earth', 'Moon', 'Mars', 'Jupiter', 'Saturn', 'Uranus', 'Neptune', 'Pluto'])"
   ]
  },
  {
   "cell_type": "code",
   "execution_count": 11,
   "metadata": {},
   "outputs": [],
   "source": [
    "diameter = pd.Series(\n",
    "    [4879, 12104, 12756, 3475, 6792, 142984, 120536, 51118, 49528, 2370],\n",
    "    index=['Mercury', 'Venus', 'Earth', 'Moon', 'Mars', 'Jupiter', 'Saturn', 'Uranus', 'Neptune', 'Pluto'])"
   ]
  },
  {
   "cell_type": "code",
   "execution_count": 12,
   "metadata": {},
   "outputs": [],
   "source": [
    "density = mass / (np.pi * np.power(diameter, 3) / 6)"
   ]
  },
  {
   "cell_type": "code",
   "execution_count": 13,
   "metadata": {},
   "outputs": [
    {
     "output_type": "execute_result",
     "data": {
      "text/plain": "Earth      5.493286e-12\nJupiter    1.240039e-12\nMars       3.913302e-12\nMercury    5.426538e-12\nMoon                NaN\nNeptune    1.603427e-12\nPluto      2.094639e-12\nSaturn     6.194402e-13\nUranus     1.241079e-12\nVenus      5.244977e-12\ndtype: float64"
     },
     "metadata": {},
     "execution_count": 13
    }
   ],
   "source": [
    "density"
   ]
  },
  {
   "cell_type": "code",
   "execution_count": 14,
   "metadata": {},
   "outputs": [
    {
     "output_type": "execute_result",
     "data": {
      "text/plain": "Earth      False\nJupiter    False\nMars       False\nMercury    False\nMoon        True\nNeptune    False\nPluto      False\nSaturn     False\nUranus     False\nVenus      False\ndtype: bool"
     },
     "metadata": {},
     "execution_count": 14
    }
   ],
   "source": [
    "pd.isna(density)"
   ]
  },
  {
   "cell_type": "code",
   "execution_count": 15,
   "metadata": {},
   "outputs": [],
   "source": [
    "density[pd.isna(density)] = np.mean(density)"
   ]
  },
  {
   "cell_type": "code",
   "execution_count": 16,
   "metadata": {},
   "outputs": [
    {
     "output_type": "execute_result",
     "data": {
      "text/plain": "Earth      5.493286e-12\nJupiter    1.240039e-12\nMars       3.913302e-12\nMercury    5.426538e-12\nMoon       2.986303e-12\nNeptune    1.603427e-12\nPluto      2.094639e-12\nSaturn     6.194402e-13\nUranus     1.241079e-12\nVenus      5.244977e-12\ndtype: float64"
     },
     "metadata": {},
     "execution_count": 16
    }
   ],
   "source": [
    "density"
   ]
  },
  {
   "cell_type": "code",
   "execution_count": 17,
   "metadata": {},
   "outputs": [],
   "source": [
    "nifty = pd.read_csv(\"nifty_data.csv\", index_col = 0).iloc[:,0]"
   ]
  },
  {
   "cell_type": "code",
   "execution_count": 18,
   "metadata": {},
   "outputs": [
    {
     "output_type": "execute_result",
     "data": {
      "text/plain": "Date\n01-Jan-2019    10910.10\n02-Jan-2019    10792.50\n03-Jan-2019    10672.25\n04-Jan-2019    10727.35\n07-Jan-2019    10771.80\n                 ...   \n24-Dec-2019    12214.55\n26-Dec-2019    12126.55\n27-Dec-2019    12245.80\n30-Dec-2019    12255.85\n31-Dec-2019    12168.45\nName: Close, Length: 245, dtype: float64"
     },
     "metadata": {},
     "execution_count": 18
    }
   ],
   "source": [
    "nifty"
   ]
  },
  {
   "cell_type": "code",
   "execution_count": 19,
   "metadata": {},
   "outputs": [
    {
     "output_type": "execute_result",
     "data": {
      "text/plain": "count      245.000000\nmean     11432.632245\nstd        454.214611\nmin      10604.350000\n25%      11003.050000\n50%      11512.400000\n75%      11841.550000\nmax      12271.800000\nName: Close, dtype: float64"
     },
     "metadata": {},
     "execution_count": 19
    }
   ],
   "source": [
    "nifty.describe()"
   ]
  },
  {
   "cell_type": "code",
   "execution_count": 20,
   "metadata": {},
   "outputs": [
    {
     "output_type": "execute_result",
     "data": {
      "text/plain": "Date\n02-Jan-2019    10792.50\n03-Jan-2019    10672.25\n04-Jan-2019    10727.35\n07-Jan-2019    10771.80\n08-Jan-2019    10802.15\n                 ...   \n24-Dec-2019    12214.55\n26-Dec-2019    12126.55\n27-Dec-2019    12245.80\n30-Dec-2019    12255.85\n31-Dec-2019    12168.45\nName: Close, Length: 244, dtype: float64"
     },
     "metadata": {},
     "execution_count": 20
    }
   ],
   "source": [
    "nifty[1:]"
   ]
  },
  {
   "cell_type": "code",
   "execution_count": 21,
   "metadata": {},
   "outputs": [
    {
     "output_type": "execute_result",
     "data": {
      "text/plain": "Date\n01-Jan-2019    10910.10\n02-Jan-2019    10792.50\n03-Jan-2019    10672.25\n04-Jan-2019    10727.35\n07-Jan-2019    10771.80\n                 ...   \n23-Dec-2019    12262.75\n24-Dec-2019    12214.55\n26-Dec-2019    12126.55\n27-Dec-2019    12245.80\n30-Dec-2019    12255.85\nName: Close, Length: 244, dtype: float64"
     },
     "metadata": {},
     "execution_count": 21
    }
   ],
   "source": [
    "nifty[:-1]"
   ]
  },
  {
   "cell_type": "code",
   "execution_count": 24,
   "metadata": {},
   "outputs": [
    {
     "output_type": "execute_result",
     "data": {
      "text/plain": "Date\n01-Apr-2019    0.0\n01-Aug-2019    0.0\n01-Feb-2019    0.0\n01-Jan-2019    NaN\n01-Jul-2019    0.0\n              ... \n31-Dec-2019    NaN\n31-Jan-2019    0.0\n31-Jul-2019    0.0\n31-May-2019    0.0\n31-Oct-2019    0.0\nName: Close, Length: 245, dtype: float64"
     },
     "metadata": {},
     "execution_count": 24
    }
   ],
   "source": [
    "nifty[1:] - nifty[:-1]"
   ]
  },
  {
   "cell_type": "code",
   "execution_count": 25,
   "metadata": {},
   "outputs": [
    {
     "output_type": "execute_result",
     "data": {
      "text/plain": "array([False, False,  True,  True,  True,  True, False, False, False,\n        True,  True,  True,  True,  True, False, False,  True, False,\n       False, False, False,  True,  True,  True,  True,  True,  True,\n       False, False, False, False, False, False, False, False,  True,\n        True,  True,  True, False, False, False,  True,  True,  True,\n        True, False,  True,  True,  True,  True,  True,  True,  True,\n       False, False, False,  True, False,  True,  True,  True,  True,\n       False, False,  True, False,  True, False,  True,  True,  True,\n        True, False, False, False,  True, False,  True, False, False,\n       False, False, False, False, False, False, False,  True, False,\n        True,  True,  True, False,  True, False,  True,  True,  True,\n       False,  True, False,  True, False, False,  True,  True,  True,\n       False,  True, False, False,  True, False,  True, False, False,\n        True,  True, False, False,  True,  True,  True,  True, False,\n       False, False, False,  True, False,  True,  True,  True, False,\n       False, False, False, False, False,  True, False, False,  True,\n       False,  True, False,  True, False,  True,  True, False,  True,\n        True,  True, False, False, False,  True,  True,  True, False,\n       False,  True, False,  True,  True,  True,  True,  True, False,\n        True, False, False,  True, False,  True,  True, False, False,\n        True, False, False, False, False, False, False,  True, False,\n        True,  True,  True,  True,  True,  True, False,  True, False,\n        True,  True,  True,  True,  True,  True,  True, False,  True,\n        True, False,  True, False,  True,  True, False,  True,  True,\n       False, False,  True, False,  True,  True, False, False, False,\n        True, False, False,  True, False,  True,  True,  True, False,\n        True,  True,  True,  True, False, False, False,  True,  True,\n       False])"
     },
     "metadata": {},
     "execution_count": 25
    }
   ],
   "source": [
    "(nifty.values[1:] - nifty.values[:-1]) > 0 # True when the market close is greater than the previous day close"
   ]
  },
  {
   "cell_type": "code",
   "execution_count": 26,
   "metadata": {},
   "outputs": [
    {
     "output_type": "execute_result",
     "data": {
      "text/plain": "129"
     },
     "metadata": {},
     "execution_count": 26
    }
   ],
   "source": [
    "np.sum((nifty.values[1:] - nifty.values[:-1]) > 0)"
   ]
  }
 ],
 "metadata": {
  "language_info": {
   "codemirror_mode": {
    "name": "ipython",
    "version": 3
   },
   "file_extension": ".py",
   "mimetype": "text/x-python",
   "name": "python",
   "nbconvert_exporter": "python",
   "pygments_lexer": "ipython3",
   "version": "3.7.6-final"
  },
  "orig_nbformat": 2,
  "kernelspec": {
   "name": "python3",
   "display_name": "Python 3"
  }
 },
 "nbformat": 4,
 "nbformat_minor": 2
}